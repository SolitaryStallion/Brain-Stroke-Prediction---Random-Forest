{
 "cells": [
  {
   "cell_type": "code",
   "execution_count": 1,
   "id": "bdbdf832",
   "metadata": {
    "_cell_guid": "b1076dfc-b9ad-4769-8c92-a6c4dae69d19",
    "_uuid": "8f2839f25d086af736a60e9eeb907d3b93b6e0e5",
    "execution": {
     "iopub.execute_input": "2023-10-28T22:37:04.870214Z",
     "iopub.status.busy": "2023-10-28T22:37:04.869929Z",
     "iopub.status.idle": "2023-10-28T22:37:05.123697Z",
     "shell.execute_reply": "2023-10-28T22:37:05.122718Z"
    },
    "papermill": {
     "duration": 0.262444,
     "end_time": "2023-10-28T22:37:05.125495",
     "exception": false,
     "start_time": "2023-10-28T22:37:04.863051",
     "status": "completed"
    },
    "tags": []
   },
   "outputs": [
    {
     "name": "stdout",
     "output_type": "stream",
     "text": [
      "/kaggle/input/brain-stroke-dataset/brain_stroke.csv\n"
     ]
    }
   ],
   "source": [
    "# This Python 3 environment comes with many helpful analytics libraries installed\n",
    "# It is defined by the kaggle/python Docker image: https://github.com/kaggle/docker-python\n",
    "# For example, here's several helpful packages to load\n",
    "\n",
    "import numpy as np # linear algebra\n",
    "import pandas as pd # data processing, CSV file I/O (e.g. pd.read_csv)\n",
    "\n",
    "# Input data files are available in the read-only \"../input/\" directory\n",
    "# For example, running this (by clicking run or pressing Shift+Enter) will list all files under the input directory\n",
    "\n",
    "import os\n",
    "for dirname, _, filenames in os.walk('/kaggle/input'):\n",
    "    for filename in filenames:\n",
    "        print(os.path.join(dirname, filename))\n",
    "\n",
    "# You can write up to 20GB to the current directory (/kaggle/working/) that gets preserved as output when you create a version using \"Save & Run All\" \n",
    "# You can also write temporary files to /kaggle/temp/, but they won't be saved outside of the current session"
   ]
  },
  {
   "cell_type": "code",
   "execution_count": 2,
   "id": "f55eb9e3",
   "metadata": {
    "execution": {
     "iopub.execute_input": "2023-10-28T22:37:05.137746Z",
     "iopub.status.busy": "2023-10-28T22:37:05.137372Z",
     "iopub.status.idle": "2023-10-28T22:37:06.173175Z",
     "shell.execute_reply": "2023-10-28T22:37:06.172181Z"
    },
    "papermill": {
     "duration": 1.043953,
     "end_time": "2023-10-28T22:37:06.175259",
     "exception": false,
     "start_time": "2023-10-28T22:37:05.131306",
     "status": "completed"
    },
    "tags": []
   },
   "outputs": [],
   "source": [
    "import numpy as np\n",
    "import pandas as pd\n",
    "import seaborn as sns\n",
    "import matplotlib.pyplot as plt"
   ]
  },
  {
   "cell_type": "code",
   "execution_count": 3,
   "id": "2461eda2",
   "metadata": {
    "execution": {
     "iopub.execute_input": "2023-10-28T22:37:06.186762Z",
     "iopub.status.busy": "2023-10-28T22:37:06.186477Z",
     "iopub.status.idle": "2023-10-28T22:37:06.233142Z",
     "shell.execute_reply": "2023-10-28T22:37:06.232093Z"
    },
    "papermill": {
     "duration": 0.054337,
     "end_time": "2023-10-28T22:37:06.235014",
     "exception": false,
     "start_time": "2023-10-28T22:37:06.180677",
     "status": "completed"
    },
    "tags": []
   },
   "outputs": [
    {
     "data": {
      "text/html": [
       "<div>\n",
       "<style scoped>\n",
       "    .dataframe tbody tr th:only-of-type {\n",
       "        vertical-align: middle;\n",
       "    }\n",
       "\n",
       "    .dataframe tbody tr th {\n",
       "        vertical-align: top;\n",
       "    }\n",
       "\n",
       "    .dataframe thead th {\n",
       "        text-align: right;\n",
       "    }\n",
       "</style>\n",
       "<table border=\"1\" class=\"dataframe\">\n",
       "  <thead>\n",
       "    <tr style=\"text-align: right;\">\n",
       "      <th></th>\n",
       "      <th>gender</th>\n",
       "      <th>age</th>\n",
       "      <th>hypertension</th>\n",
       "      <th>heart_disease</th>\n",
       "      <th>ever_married</th>\n",
       "      <th>work_type</th>\n",
       "      <th>Residence_type</th>\n",
       "      <th>avg_glucose_level</th>\n",
       "      <th>bmi</th>\n",
       "      <th>smoking_status</th>\n",
       "      <th>stroke</th>\n",
       "    </tr>\n",
       "  </thead>\n",
       "  <tbody>\n",
       "    <tr>\n",
       "      <th>0</th>\n",
       "      <td>Male</td>\n",
       "      <td>67.0</td>\n",
       "      <td>0</td>\n",
       "      <td>1</td>\n",
       "      <td>Yes</td>\n",
       "      <td>Private</td>\n",
       "      <td>Urban</td>\n",
       "      <td>228.69</td>\n",
       "      <td>36.6</td>\n",
       "      <td>formerly smoked</td>\n",
       "      <td>1</td>\n",
       "    </tr>\n",
       "    <tr>\n",
       "      <th>1</th>\n",
       "      <td>Male</td>\n",
       "      <td>80.0</td>\n",
       "      <td>0</td>\n",
       "      <td>1</td>\n",
       "      <td>Yes</td>\n",
       "      <td>Private</td>\n",
       "      <td>Rural</td>\n",
       "      <td>105.92</td>\n",
       "      <td>32.5</td>\n",
       "      <td>never smoked</td>\n",
       "      <td>1</td>\n",
       "    </tr>\n",
       "    <tr>\n",
       "      <th>2</th>\n",
       "      <td>Female</td>\n",
       "      <td>49.0</td>\n",
       "      <td>0</td>\n",
       "      <td>0</td>\n",
       "      <td>Yes</td>\n",
       "      <td>Private</td>\n",
       "      <td>Urban</td>\n",
       "      <td>171.23</td>\n",
       "      <td>34.4</td>\n",
       "      <td>smokes</td>\n",
       "      <td>1</td>\n",
       "    </tr>\n",
       "    <tr>\n",
       "      <th>3</th>\n",
       "      <td>Female</td>\n",
       "      <td>79.0</td>\n",
       "      <td>1</td>\n",
       "      <td>0</td>\n",
       "      <td>Yes</td>\n",
       "      <td>Self-employed</td>\n",
       "      <td>Rural</td>\n",
       "      <td>174.12</td>\n",
       "      <td>24.0</td>\n",
       "      <td>never smoked</td>\n",
       "      <td>1</td>\n",
       "    </tr>\n",
       "    <tr>\n",
       "      <th>4</th>\n",
       "      <td>Male</td>\n",
       "      <td>81.0</td>\n",
       "      <td>0</td>\n",
       "      <td>0</td>\n",
       "      <td>Yes</td>\n",
       "      <td>Private</td>\n",
       "      <td>Urban</td>\n",
       "      <td>186.21</td>\n",
       "      <td>29.0</td>\n",
       "      <td>formerly smoked</td>\n",
       "      <td>1</td>\n",
       "    </tr>\n",
       "    <tr>\n",
       "      <th>...</th>\n",
       "      <td>...</td>\n",
       "      <td>...</td>\n",
       "      <td>...</td>\n",
       "      <td>...</td>\n",
       "      <td>...</td>\n",
       "      <td>...</td>\n",
       "      <td>...</td>\n",
       "      <td>...</td>\n",
       "      <td>...</td>\n",
       "      <td>...</td>\n",
       "      <td>...</td>\n",
       "    </tr>\n",
       "    <tr>\n",
       "      <th>4976</th>\n",
       "      <td>Male</td>\n",
       "      <td>41.0</td>\n",
       "      <td>0</td>\n",
       "      <td>0</td>\n",
       "      <td>No</td>\n",
       "      <td>Private</td>\n",
       "      <td>Rural</td>\n",
       "      <td>70.15</td>\n",
       "      <td>29.8</td>\n",
       "      <td>formerly smoked</td>\n",
       "      <td>0</td>\n",
       "    </tr>\n",
       "    <tr>\n",
       "      <th>4977</th>\n",
       "      <td>Male</td>\n",
       "      <td>40.0</td>\n",
       "      <td>0</td>\n",
       "      <td>0</td>\n",
       "      <td>Yes</td>\n",
       "      <td>Private</td>\n",
       "      <td>Urban</td>\n",
       "      <td>191.15</td>\n",
       "      <td>31.1</td>\n",
       "      <td>smokes</td>\n",
       "      <td>0</td>\n",
       "    </tr>\n",
       "    <tr>\n",
       "      <th>4978</th>\n",
       "      <td>Female</td>\n",
       "      <td>45.0</td>\n",
       "      <td>1</td>\n",
       "      <td>0</td>\n",
       "      <td>Yes</td>\n",
       "      <td>Govt_job</td>\n",
       "      <td>Rural</td>\n",
       "      <td>95.02</td>\n",
       "      <td>31.8</td>\n",
       "      <td>smokes</td>\n",
       "      <td>0</td>\n",
       "    </tr>\n",
       "    <tr>\n",
       "      <th>4979</th>\n",
       "      <td>Male</td>\n",
       "      <td>40.0</td>\n",
       "      <td>0</td>\n",
       "      <td>0</td>\n",
       "      <td>Yes</td>\n",
       "      <td>Private</td>\n",
       "      <td>Rural</td>\n",
       "      <td>83.94</td>\n",
       "      <td>30.0</td>\n",
       "      <td>smokes</td>\n",
       "      <td>0</td>\n",
       "    </tr>\n",
       "    <tr>\n",
       "      <th>4980</th>\n",
       "      <td>Female</td>\n",
       "      <td>80.0</td>\n",
       "      <td>1</td>\n",
       "      <td>0</td>\n",
       "      <td>Yes</td>\n",
       "      <td>Private</td>\n",
       "      <td>Urban</td>\n",
       "      <td>83.75</td>\n",
       "      <td>29.1</td>\n",
       "      <td>never smoked</td>\n",
       "      <td>0</td>\n",
       "    </tr>\n",
       "  </tbody>\n",
       "</table>\n",
       "<p>4981 rows × 11 columns</p>\n",
       "</div>"
      ],
      "text/plain": [
       "      gender   age  hypertension  heart_disease ever_married      work_type  \\\n",
       "0       Male  67.0             0              1          Yes        Private   \n",
       "1       Male  80.0             0              1          Yes        Private   \n",
       "2     Female  49.0             0              0          Yes        Private   \n",
       "3     Female  79.0             1              0          Yes  Self-employed   \n",
       "4       Male  81.0             0              0          Yes        Private   \n",
       "...      ...   ...           ...            ...          ...            ...   \n",
       "4976    Male  41.0             0              0           No        Private   \n",
       "4977    Male  40.0             0              0          Yes        Private   \n",
       "4978  Female  45.0             1              0          Yes       Govt_job   \n",
       "4979    Male  40.0             0              0          Yes        Private   \n",
       "4980  Female  80.0             1              0          Yes        Private   \n",
       "\n",
       "     Residence_type  avg_glucose_level   bmi   smoking_status  stroke  \n",
       "0             Urban             228.69  36.6  formerly smoked       1  \n",
       "1             Rural             105.92  32.5     never smoked       1  \n",
       "2             Urban             171.23  34.4           smokes       1  \n",
       "3             Rural             174.12  24.0     never smoked       1  \n",
       "4             Urban             186.21  29.0  formerly smoked       1  \n",
       "...             ...                ...   ...              ...     ...  \n",
       "4976          Rural              70.15  29.8  formerly smoked       0  \n",
       "4977          Urban             191.15  31.1           smokes       0  \n",
       "4978          Rural              95.02  31.8           smokes       0  \n",
       "4979          Rural              83.94  30.0           smokes       0  \n",
       "4980          Urban              83.75  29.1     never smoked       0  \n",
       "\n",
       "[4981 rows x 11 columns]"
      ]
     },
     "execution_count": 3,
     "metadata": {},
     "output_type": "execute_result"
    }
   ],
   "source": [
    "data = pd.read_csv(\"/kaggle/input/brain-stroke-dataset/brain_stroke.csv\")\n",
    "data"
   ]
  },
  {
   "cell_type": "markdown",
   "id": "dfe37eca",
   "metadata": {
    "papermill": {
     "duration": 0.005667,
     "end_time": "2023-10-28T22:37:06.247018",
     "exception": false,
     "start_time": "2023-10-28T22:37:06.241351",
     "status": "completed"
    },
    "tags": []
   },
   "source": [
    "# Performing Exploratory Data Analysis"
   ]
  },
  {
   "cell_type": "code",
   "execution_count": 4,
   "id": "ffd7bd83",
   "metadata": {
    "execution": {
     "iopub.execute_input": "2023-10-28T22:37:06.259844Z",
     "iopub.status.busy": "2023-10-28T22:37:06.259624Z",
     "iopub.status.idle": "2023-10-28T22:37:06.278809Z",
     "shell.execute_reply": "2023-10-28T22:37:06.277684Z"
    },
    "papermill": {
     "duration": 0.027803,
     "end_time": "2023-10-28T22:37:06.280638",
     "exception": false,
     "start_time": "2023-10-28T22:37:06.252835",
     "status": "completed"
    },
    "tags": []
   },
   "outputs": [
    {
     "name": "stdout",
     "output_type": "stream",
     "text": [
      "<class 'pandas.core.frame.DataFrame'>\n",
      "RangeIndex: 4981 entries, 0 to 4980\n",
      "Data columns (total 11 columns):\n",
      " #   Column             Non-Null Count  Dtype  \n",
      "---  ------             --------------  -----  \n",
      " 0   gender             4981 non-null   object \n",
      " 1   age                4981 non-null   float64\n",
      " 2   hypertension       4981 non-null   int64  \n",
      " 3   heart_disease      4981 non-null   int64  \n",
      " 4   ever_married       4981 non-null   object \n",
      " 5   work_type          4981 non-null   object \n",
      " 6   Residence_type     4981 non-null   object \n",
      " 7   avg_glucose_level  4981 non-null   float64\n",
      " 8   bmi                4981 non-null   float64\n",
      " 9   smoking_status     4981 non-null   object \n",
      " 10  stroke             4981 non-null   int64  \n",
      "dtypes: float64(3), int64(3), object(5)\n",
      "memory usage: 428.2+ KB\n"
     ]
    }
   ],
   "source": [
    "data.info()"
   ]
  },
  {
   "cell_type": "code",
   "execution_count": 5,
   "id": "1b42a1df",
   "metadata": {
    "execution": {
     "iopub.execute_input": "2023-10-28T22:37:06.293421Z",
     "iopub.status.busy": "2023-10-28T22:37:06.293202Z",
     "iopub.status.idle": "2023-10-28T22:37:06.298233Z",
     "shell.execute_reply": "2023-10-28T22:37:06.297446Z"
    },
    "papermill": {
     "duration": 0.013195,
     "end_time": "2023-10-28T22:37:06.299740",
     "exception": false,
     "start_time": "2023-10-28T22:37:06.286545",
     "status": "completed"
    },
    "tags": []
   },
   "outputs": [
    {
     "data": {
      "text/plain": [
       "array(['formerly smoked', 'never smoked', 'smokes', 'Unknown'],\n",
       "      dtype=object)"
      ]
     },
     "execution_count": 5,
     "metadata": {},
     "output_type": "execute_result"
    }
   ],
   "source": [
    "data[\"smoking_status\"].unique()"
   ]
  },
  {
   "cell_type": "code",
   "execution_count": 6,
   "id": "0c0afa78",
   "metadata": {
    "execution": {
     "iopub.execute_input": "2023-10-28T22:37:06.312580Z",
     "iopub.status.busy": "2023-10-28T22:37:06.312352Z",
     "iopub.status.idle": "2023-10-28T22:37:06.319788Z",
     "shell.execute_reply": "2023-10-28T22:37:06.319005Z"
    },
    "papermill": {
     "duration": 0.015727,
     "end_time": "2023-10-28T22:37:06.321442",
     "exception": false,
     "start_time": "2023-10-28T22:37:06.305715",
     "status": "completed"
    },
    "tags": []
   },
   "outputs": [
    {
     "data": {
      "text/plain": [
       "gender               0\n",
       "age                  0\n",
       "hypertension         0\n",
       "heart_disease        0\n",
       "ever_married         0\n",
       "work_type            0\n",
       "Residence_type       0\n",
       "avg_glucose_level    0\n",
       "bmi                  0\n",
       "smoking_status       0\n",
       "stroke               0\n",
       "dtype: int64"
      ]
     },
     "execution_count": 6,
     "metadata": {},
     "output_type": "execute_result"
    }
   ],
   "source": [
    "data.isnull().sum()"
   ]
  },
  {
   "cell_type": "code",
   "execution_count": 7,
   "id": "d362a121",
   "metadata": {
    "execution": {
     "iopub.execute_input": "2023-10-28T22:37:06.334486Z",
     "iopub.status.busy": "2023-10-28T22:37:06.334241Z",
     "iopub.status.idle": "2023-10-28T22:37:06.339334Z",
     "shell.execute_reply": "2023-10-28T22:37:06.338532Z"
    },
    "papermill": {
     "duration": 0.013257,
     "end_time": "2023-10-28T22:37:06.340747",
     "exception": false,
     "start_time": "2023-10-28T22:37:06.327490",
     "status": "completed"
    },
    "tags": []
   },
   "outputs": [
    {
     "data": {
      "text/plain": [
       "(4981, 11)"
      ]
     },
     "execution_count": 7,
     "metadata": {},
     "output_type": "execute_result"
    }
   ],
   "source": [
    "data.shape"
   ]
  },
  {
   "cell_type": "code",
   "execution_count": 8,
   "id": "d5a3eac3",
   "metadata": {
    "execution": {
     "iopub.execute_input": "2023-10-28T22:37:06.354165Z",
     "iopub.status.busy": "2023-10-28T22:37:06.353892Z",
     "iopub.status.idle": "2023-10-28T22:37:06.363891Z",
     "shell.execute_reply": "2023-10-28T22:37:06.363369Z"
    },
    "papermill": {
     "duration": 0.018805,
     "end_time": "2023-10-28T22:37:06.365689",
     "exception": false,
     "start_time": "2023-10-28T22:37:06.346884",
     "status": "completed"
    },
    "tags": []
   },
   "outputs": [
    {
     "name": "stdout",
     "output_type": "stream",
     "text": [
      "<class 'pandas.core.frame.DataFrame'>\n",
      "RangeIndex: 4981 entries, 0 to 4980\n",
      "Data columns (total 10 columns):\n",
      " #   Column             Non-Null Count  Dtype  \n",
      "---  ------             --------------  -----  \n",
      " 0   gender             4981 non-null   object \n",
      " 1   age                4981 non-null   float64\n",
      " 2   hypertension       4981 non-null   int64  \n",
      " 3   heart_disease      4981 non-null   int64  \n",
      " 4   ever_married       4981 non-null   object \n",
      " 5   work_type          4981 non-null   object \n",
      " 6   avg_glucose_level  4981 non-null   float64\n",
      " 7   bmi                4981 non-null   float64\n",
      " 8   smoking_status     4981 non-null   object \n",
      " 9   stroke             4981 non-null   int64  \n",
      "dtypes: float64(3), int64(3), object(4)\n",
      "memory usage: 389.3+ KB\n"
     ]
    }
   ],
   "source": [
    "data=data.drop([\"Residence_type\"],axis=1)\n",
    "data.info()"
   ]
  },
  {
   "cell_type": "code",
   "execution_count": 9,
   "id": "ae2c4fde",
   "metadata": {
    "execution": {
     "iopub.execute_input": "2023-10-28T22:37:06.380555Z",
     "iopub.status.busy": "2023-10-28T22:37:06.380330Z",
     "iopub.status.idle": "2023-10-28T22:37:06.401193Z",
     "shell.execute_reply": "2023-10-28T22:37:06.400439Z"
    },
    "papermill": {
     "duration": 0.02932,
     "end_time": "2023-10-28T22:37:06.402736",
     "exception": false,
     "start_time": "2023-10-28T22:37:06.373416",
     "status": "completed"
    },
    "tags": []
   },
   "outputs": [
    {
     "data": {
      "text/html": [
       "<div>\n",
       "<style scoped>\n",
       "    .dataframe tbody tr th:only-of-type {\n",
       "        vertical-align: middle;\n",
       "    }\n",
       "\n",
       "    .dataframe tbody tr th {\n",
       "        vertical-align: top;\n",
       "    }\n",
       "\n",
       "    .dataframe thead th {\n",
       "        text-align: right;\n",
       "    }\n",
       "</style>\n",
       "<table border=\"1\" class=\"dataframe\">\n",
       "  <thead>\n",
       "    <tr style=\"text-align: right;\">\n",
       "      <th></th>\n",
       "      <th>gender</th>\n",
       "      <th>age</th>\n",
       "      <th>hypertension</th>\n",
       "      <th>heart_disease</th>\n",
       "      <th>ever_married</th>\n",
       "      <th>work_type</th>\n",
       "      <th>avg_glucose_level</th>\n",
       "      <th>bmi</th>\n",
       "      <th>smoking_status</th>\n",
       "      <th>stroke</th>\n",
       "    </tr>\n",
       "  </thead>\n",
       "  <tbody>\n",
       "    <tr>\n",
       "      <th>0</th>\n",
       "      <td>Male</td>\n",
       "      <td>67.0</td>\n",
       "      <td>0</td>\n",
       "      <td>1</td>\n",
       "      <td>Yes</td>\n",
       "      <td>Private</td>\n",
       "      <td>228.69</td>\n",
       "      <td>36.6</td>\n",
       "      <td>formerly smoked</td>\n",
       "      <td>1</td>\n",
       "    </tr>\n",
       "    <tr>\n",
       "      <th>1</th>\n",
       "      <td>Male</td>\n",
       "      <td>80.0</td>\n",
       "      <td>0</td>\n",
       "      <td>1</td>\n",
       "      <td>Yes</td>\n",
       "      <td>Private</td>\n",
       "      <td>105.92</td>\n",
       "      <td>32.5</td>\n",
       "      <td>never smoked</td>\n",
       "      <td>1</td>\n",
       "    </tr>\n",
       "    <tr>\n",
       "      <th>2</th>\n",
       "      <td>Female</td>\n",
       "      <td>49.0</td>\n",
       "      <td>0</td>\n",
       "      <td>0</td>\n",
       "      <td>Yes</td>\n",
       "      <td>Private</td>\n",
       "      <td>171.23</td>\n",
       "      <td>34.4</td>\n",
       "      <td>smokes</td>\n",
       "      <td>1</td>\n",
       "    </tr>\n",
       "    <tr>\n",
       "      <th>3</th>\n",
       "      <td>Female</td>\n",
       "      <td>79.0</td>\n",
       "      <td>1</td>\n",
       "      <td>0</td>\n",
       "      <td>Yes</td>\n",
       "      <td>Self-employed</td>\n",
       "      <td>174.12</td>\n",
       "      <td>24.0</td>\n",
       "      <td>never smoked</td>\n",
       "      <td>1</td>\n",
       "    </tr>\n",
       "    <tr>\n",
       "      <th>4</th>\n",
       "      <td>Male</td>\n",
       "      <td>81.0</td>\n",
       "      <td>0</td>\n",
       "      <td>0</td>\n",
       "      <td>Yes</td>\n",
       "      <td>Private</td>\n",
       "      <td>186.21</td>\n",
       "      <td>29.0</td>\n",
       "      <td>formerly smoked</td>\n",
       "      <td>1</td>\n",
       "    </tr>\n",
       "    <tr>\n",
       "      <th>...</th>\n",
       "      <td>...</td>\n",
       "      <td>...</td>\n",
       "      <td>...</td>\n",
       "      <td>...</td>\n",
       "      <td>...</td>\n",
       "      <td>...</td>\n",
       "      <td>...</td>\n",
       "      <td>...</td>\n",
       "      <td>...</td>\n",
       "      <td>...</td>\n",
       "    </tr>\n",
       "    <tr>\n",
       "      <th>4976</th>\n",
       "      <td>Male</td>\n",
       "      <td>41.0</td>\n",
       "      <td>0</td>\n",
       "      <td>0</td>\n",
       "      <td>No</td>\n",
       "      <td>Private</td>\n",
       "      <td>70.15</td>\n",
       "      <td>29.8</td>\n",
       "      <td>formerly smoked</td>\n",
       "      <td>0</td>\n",
       "    </tr>\n",
       "    <tr>\n",
       "      <th>4977</th>\n",
       "      <td>Male</td>\n",
       "      <td>40.0</td>\n",
       "      <td>0</td>\n",
       "      <td>0</td>\n",
       "      <td>Yes</td>\n",
       "      <td>Private</td>\n",
       "      <td>191.15</td>\n",
       "      <td>31.1</td>\n",
       "      <td>smokes</td>\n",
       "      <td>0</td>\n",
       "    </tr>\n",
       "    <tr>\n",
       "      <th>4978</th>\n",
       "      <td>Female</td>\n",
       "      <td>45.0</td>\n",
       "      <td>1</td>\n",
       "      <td>0</td>\n",
       "      <td>Yes</td>\n",
       "      <td>Govt_job</td>\n",
       "      <td>95.02</td>\n",
       "      <td>31.8</td>\n",
       "      <td>smokes</td>\n",
       "      <td>0</td>\n",
       "    </tr>\n",
       "    <tr>\n",
       "      <th>4979</th>\n",
       "      <td>Male</td>\n",
       "      <td>40.0</td>\n",
       "      <td>0</td>\n",
       "      <td>0</td>\n",
       "      <td>Yes</td>\n",
       "      <td>Private</td>\n",
       "      <td>83.94</td>\n",
       "      <td>30.0</td>\n",
       "      <td>smokes</td>\n",
       "      <td>0</td>\n",
       "    </tr>\n",
       "    <tr>\n",
       "      <th>4980</th>\n",
       "      <td>Female</td>\n",
       "      <td>80.0</td>\n",
       "      <td>1</td>\n",
       "      <td>0</td>\n",
       "      <td>Yes</td>\n",
       "      <td>Private</td>\n",
       "      <td>83.75</td>\n",
       "      <td>29.1</td>\n",
       "      <td>never smoked</td>\n",
       "      <td>0</td>\n",
       "    </tr>\n",
       "  </tbody>\n",
       "</table>\n",
       "<p>4981 rows × 10 columns</p>\n",
       "</div>"
      ],
      "text/plain": [
       "      gender   age  hypertension  heart_disease ever_married      work_type  \\\n",
       "0       Male  67.0             0              1          Yes        Private   \n",
       "1       Male  80.0             0              1          Yes        Private   \n",
       "2     Female  49.0             0              0          Yes        Private   \n",
       "3     Female  79.0             1              0          Yes  Self-employed   \n",
       "4       Male  81.0             0              0          Yes        Private   \n",
       "...      ...   ...           ...            ...          ...            ...   \n",
       "4976    Male  41.0             0              0           No        Private   \n",
       "4977    Male  40.0             0              0          Yes        Private   \n",
       "4978  Female  45.0             1              0          Yes       Govt_job   \n",
       "4979    Male  40.0             0              0          Yes        Private   \n",
       "4980  Female  80.0             1              0          Yes        Private   \n",
       "\n",
       "      avg_glucose_level   bmi   smoking_status  stroke  \n",
       "0                228.69  36.6  formerly smoked       1  \n",
       "1                105.92  32.5     never smoked       1  \n",
       "2                171.23  34.4           smokes       1  \n",
       "3                174.12  24.0     never smoked       1  \n",
       "4                186.21  29.0  formerly smoked       1  \n",
       "...                 ...   ...              ...     ...  \n",
       "4976              70.15  29.8  formerly smoked       0  \n",
       "4977             191.15  31.1           smokes       0  \n",
       "4978              95.02  31.8           smokes       0  \n",
       "4979              83.94  30.0           smokes       0  \n",
       "4980              83.75  29.1     never smoked       0  \n",
       "\n",
       "[4981 rows x 10 columns]"
      ]
     },
     "execution_count": 9,
     "metadata": {},
     "output_type": "execute_result"
    }
   ],
   "source": [
    "data.drop_duplicates()\n",
    "data"
   ]
  },
  {
   "cell_type": "code",
   "execution_count": 10,
   "id": "323b8dd5",
   "metadata": {
    "execution": {
     "iopub.execute_input": "2023-10-28T22:37:06.416807Z",
     "iopub.status.busy": "2023-10-28T22:37:06.416547Z",
     "iopub.status.idle": "2023-10-28T22:37:06.541886Z",
     "shell.execute_reply": "2023-10-28T22:37:06.540808Z"
    },
    "papermill": {
     "duration": 0.134701,
     "end_time": "2023-10-28T22:37:06.543869",
     "exception": false,
     "start_time": "2023-10-28T22:37:06.409168",
     "status": "completed"
    },
    "tags": []
   },
   "outputs": [
    {
     "name": "stdout",
     "output_type": "stream",
     "text": [
      "<class 'pandas.core.frame.DataFrame'>\n",
      "RangeIndex: 4981 entries, 0 to 4980\n",
      "Data columns (total 10 columns):\n",
      " #   Column             Non-Null Count  Dtype  \n",
      "---  ------             --------------  -----  \n",
      " 0   gender             4981 non-null   int64  \n",
      " 1   age                4981 non-null   float64\n",
      " 2   hypertension       4981 non-null   int64  \n",
      " 3   heart_disease      4981 non-null   int64  \n",
      " 4   ever_married       4981 non-null   int64  \n",
      " 5   work_type          4981 non-null   int64  \n",
      " 6   avg_glucose_level  4981 non-null   float64\n",
      " 7   bmi                4981 non-null   float64\n",
      " 8   smoking_status     4981 non-null   int64  \n",
      " 9   stroke             4981 non-null   int64  \n",
      "dtypes: float64(3), int64(7)\n",
      "memory usage: 389.3 KB\n"
     ]
    }
   ],
   "source": [
    "from sklearn.preprocessing import LabelEncoder\n",
    "enc=LabelEncoder()\n",
    "for i in data.columns:\n",
    "    if data[i].dtype == \"object\":\n",
    "        data[i]=enc.fit_transform(data[i])\n",
    "        \n",
    "data.info()"
   ]
  },
  {
   "cell_type": "code",
   "execution_count": 11,
   "id": "63ec1312",
   "metadata": {
    "execution": {
     "iopub.execute_input": "2023-10-28T22:37:06.558506Z",
     "iopub.status.busy": "2023-10-28T22:37:06.558274Z",
     "iopub.status.idle": "2023-10-28T22:37:06.850854Z",
     "shell.execute_reply": "2023-10-28T22:37:06.849990Z"
    },
    "papermill": {
     "duration": 0.301765,
     "end_time": "2023-10-28T22:37:06.852702",
     "exception": false,
     "start_time": "2023-10-28T22:37:06.550937",
     "status": "completed"
    },
    "tags": []
   },
   "outputs": [
    {
     "data": {
      "image/png": "[encoded data removed]",
      "text/plain": [
       "<Figure size 640x480 with 2 Axes>"
      ]
     },
     "metadata": {},
     "output_type": "display_data"
    }
   ],
   "source": [
    "sns.heatmap(data.corr())\n",
    "\n",
    "# Show the plot\n",
    "plt.show()"
   ]
  },
  {
   "cell_type": "code",
   "execution_count": 12,
   "id": "5dae0198",
   "metadata": {
    "execution": {
     "iopub.execute_input": "2023-10-28T22:37:06.868490Z",
     "iopub.status.busy": "2023-10-28T22:37:06.867852Z",
     "iopub.status.idle": "2023-10-28T22:37:06.872833Z",
     "shell.execute_reply": "2023-10-28T22:37:06.871898Z"
    },
    "papermill": {
     "duration": 0.014584,
     "end_time": "2023-10-28T22:37:06.874623",
     "exception": false,
     "start_time": "2023-10-28T22:37:06.860039",
     "status": "completed"
    },
    "tags": []
   },
   "outputs": [],
   "source": [
    "y = data[\"stroke\"]\n",
    "x= data.drop([\"stroke\"], axis =1)"
   ]
  },
  {
   "cell_type": "markdown",
   "id": "b74c2374",
   "metadata": {
    "papermill": {
     "duration": 0.006659,
     "end_time": "2023-10-28T22:37:06.888172",
     "exception": false,
     "start_time": "2023-10-28T22:37:06.881513",
     "status": "completed"
    },
    "tags": []
   },
   "source": [
    "# Normalizing the independent variables"
   ]
  },
  {
   "cell_type": "code",
   "execution_count": 13,
   "id": "4131ddaf",
   "metadata": {
    "execution": {
     "iopub.execute_input": "2023-10-28T22:37:06.902855Z",
     "iopub.status.busy": "2023-10-28T22:37:06.902631Z",
     "iopub.status.idle": "2023-10-28T22:37:06.910509Z",
     "shell.execute_reply": "2023-10-28T22:37:06.909918Z"
    },
    "papermill": {
     "duration": 0.016832,
     "end_time": "2023-10-28T22:37:06.911946",
     "exception": false,
     "start_time": "2023-10-28T22:37:06.895114",
     "status": "completed"
    },
    "tags": []
   },
   "outputs": [],
   "source": [
    "from sklearn.preprocessing import StandardScaler, Normalizer\n",
    "scaler = StandardScaler()\n",
    "x=scaler.fit_transform(x)\n",
    "x=Normalizer().fit_transform(x)"
   ]
  },
  {
   "cell_type": "markdown",
   "id": "130e01c2",
   "metadata": {
    "papermill": {
     "duration": 0.006769,
     "end_time": "2023-10-28T22:37:06.925898",
     "exception": false,
     "start_time": "2023-10-28T22:37:06.919129",
     "status": "completed"
    },
    "tags": []
   },
   "source": [
    "# 1. Splitting data (60-40)"
   ]
  },
  {
   "cell_type": "code",
   "execution_count": 14,
   "id": "7e919d64",
   "metadata": {
    "execution": {
     "iopub.execute_input": "2023-10-28T22:37:06.941197Z",
     "iopub.status.busy": "2023-10-28T22:37:06.940467Z",
     "iopub.status.idle": "2023-10-28T22:37:07.019571Z",
     "shell.execute_reply": "2023-10-28T22:37:07.018832Z"
    },
    "papermill": {
     "duration": 0.088324,
     "end_time": "2023-10-28T22:37:07.021155",
     "exception": false,
     "start_time": "2023-10-28T22:37:06.932831",
     "status": "completed"
    },
    "tags": []
   },
   "outputs": [],
   "source": [
    "from sklearn.model_selection import train_test_split\n",
    "x_train, x_test, y_train, y_test = train_test_split(x,y,test_size=0.40, random_state=0)"
   ]
  },
  {
   "cell_type": "markdown",
   "id": "16d92c20",
   "metadata": {
    "papermill": {
     "duration": 0.006698,
     "end_time": "2023-10-28T22:37:07.034970",
     "exception": false,
     "start_time": "2023-10-28T22:37:07.028272",
     "status": "completed"
    },
    "tags": []
   },
   "source": [
    "# Building Random Forest Model"
   ]
  },
  {
   "cell_type": "code",
   "execution_count": 15,
   "id": "590d76d1",
   "metadata": {
    "execution": {
     "iopub.execute_input": "2023-10-28T22:37:07.050159Z",
     "iopub.status.busy": "2023-10-28T22:37:07.049893Z",
     "iopub.status.idle": "2023-10-28T22:37:08.005514Z",
     "shell.execute_reply": "2023-10-28T22:37:08.004644Z"
    },
    "papermill": {
     "duration": 0.964955,
     "end_time": "2023-10-28T22:37:08.007230",
     "exception": false,
     "start_time": "2023-10-28T22:37:07.042275",
     "status": "completed"
    },
    "tags": []
   },
   "outputs": [
    {
     "name": "stdout",
     "output_type": "stream",
     "text": [
      "Accuracy score: 0.950\n",
      "Precision score: 0.477\n",
      "Recall score: 0.498\n",
      "F1 score: 0.487\n"
     ]
    }
   ],
   "source": [
    "from sklearn.ensemble import RandomForestClassifier\n",
    "from sklearn.metrics import accuracy_score, f1_score, precision_score, recall_score\n",
    "model = RandomForestClassifier(random_state=0)\n",
    "model.fit(x_train,y_train)\n",
    "y_pred = model.predict(x_test)\n",
    "\n",
    "\n",
    "print(\"Accuracy score: %.3f\"%accuracy_score(y_test, y_pred))\n",
    "print(\"Precision score: %.3f\"%precision_score(y_test, y_pred, average='macro'))\n",
    "print(\"Recall score: %.3f\"%recall_score(y_test, y_pred, average='macro'))\n",
    "print(\"F1 score: %.3f\"%f1_score(y_test, y_pred, average='macro'))"
   ]
  },
  {
   "cell_type": "markdown",
   "id": "d33e4841",
   "metadata": {
    "papermill": {
     "duration": 0.00673,
     "end_time": "2023-10-28T22:37:08.021200",
     "exception": false,
     "start_time": "2023-10-28T22:37:08.014470",
     "status": "completed"
    },
    "tags": []
   },
   "source": [
    "# 2. Splitting data (70-30)"
   ]
  },
  {
   "cell_type": "code",
   "execution_count": 16,
   "id": "8fbac98f",
   "metadata": {
    "execution": {
     "iopub.execute_input": "2023-10-28T22:37:08.036213Z",
     "iopub.status.busy": "2023-10-28T22:37:08.035929Z",
     "iopub.status.idle": "2023-10-28T22:37:08.040980Z",
     "shell.execute_reply": "2023-10-28T22:37:08.040238Z"
    },
    "papermill": {
     "duration": 0.014239,
     "end_time": "2023-10-28T22:37:08.042400",
     "exception": false,
     "start_time": "2023-10-28T22:37:08.028161",
     "status": "completed"
    },
    "tags": []
   },
   "outputs": [],
   "source": [
    "x_train, x_test, y_train, y_test = train_test_split(x,y,test_size=0.3, random_state=0)"
   ]
  },
  {
   "cell_type": "code",
   "execution_count": 17,
   "id": "90e8d9ae",
   "metadata": {
    "execution": {
     "iopub.execute_input": "2023-10-28T22:37:08.057332Z",
     "iopub.status.busy": "2023-10-28T22:37:08.057115Z",
     "iopub.status.idle": "2023-10-28T22:37:08.848615Z",
     "shell.execute_reply": "2023-10-28T22:37:08.847714Z"
    },
    "papermill": {
     "duration": 0.801044,
     "end_time": "2023-10-28T22:37:08.850308",
     "exception": false,
     "start_time": "2023-10-28T22:37:08.049264",
     "status": "completed"
    },
    "tags": []
   },
   "outputs": [
    {
     "name": "stdout",
     "output_type": "stream",
     "text": [
      "Accuracy score: 0.954\n",
      "Precision score: 0.478\n",
      "Recall score: 0.499\n",
      "F1 score: 0.488\n"
     ]
    }
   ],
   "source": [
    "from sklearn.ensemble import RandomForestClassifier\n",
    "from sklearn.metrics import accuracy_score, f1_score, precision_score, recall_score\n",
    "model = RandomForestClassifier(random_state=0)\n",
    "model.fit(x_train,y_train)\n",
    "y_pred = model.predict(x_test)\n",
    "\n",
    "print(\"Accuracy score: %.3f\"%accuracy_score(y_test, y_pred))\n",
    "print(\"Precision score: %.3f\"%precision_score(y_test, y_pred, average='macro'))\n",
    "print(\"Recall score: %.3f\"%recall_score(y_test, y_pred, average='macro'))\n",
    "print(\"F1 score: %.3f\"%f1_score(y_test, y_pred, average='macro'))"
   ]
  },
  {
   "cell_type": "markdown",
   "id": "0b6b0068",
   "metadata": {
    "papermill": {
     "duration": 0.006706,
     "end_time": "2023-10-28T22:37:08.864058",
     "exception": false,
     "start_time": "2023-10-28T22:37:08.857352",
     "status": "completed"
    },
    "tags": []
   },
   "source": [
    "# RFMODEL02 - Adjusting n_estimators = 10, n_jobs = 1 "
   ]
  },
  {
   "cell_type": "code",
   "execution_count": 18,
   "id": "151f5b59",
   "metadata": {
    "execution": {
     "iopub.execute_input": "2023-10-28T22:37:08.878830Z",
     "iopub.status.busy": "2023-10-28T22:37:08.878589Z",
     "iopub.status.idle": "2023-10-28T22:37:08.968883Z",
     "shell.execute_reply": "2023-10-28T22:37:08.968177Z"
    },
    "papermill": {
     "duration": 0.099371,
     "end_time": "2023-10-28T22:37:08.970407",
     "exception": false,
     "start_time": "2023-10-28T22:37:08.871036",
     "status": "completed"
    },
    "tags": []
   },
   "outputs": [
    {
     "name": "stdout",
     "output_type": "stream",
     "text": [
      "Accuracy score: 0.952\n",
      "Precision score: 0.570\n",
      "Recall score: 0.512\n",
      "F1 score: 0.514\n"
     ]
    }
   ],
   "source": [
    "model02=RandomForestClassifier(n_estimators=10, n_jobs=1,random_state=0)\n",
    "model02.fit(x_train,y_train)\n",
    "y_pred=model02.predict(x_test)\n",
    "\n",
    "print(\"Accuracy score: %.3f\"%accuracy_score(y_test, y_pred))\n",
    "print(\"Precision score: %.3f\"%precision_score(y_test, y_pred, average='macro'))\n",
    "print(\"Recall score: %.3f\"%recall_score(y_test, y_pred, average='macro'))\n",
    "print(\"F1 score: %.3f\"%f1_score(y_test, y_pred, average='macro'))"
   ]
  },
  {
   "cell_type": "markdown",
   "id": "81667a92",
   "metadata": {
    "papermill": {
     "duration": 0.006854,
     "end_time": "2023-10-28T22:37:08.984215",
     "exception": false,
     "start_time": "2023-10-28T22:37:08.977361",
     "status": "completed"
    },
    "tags": []
   },
   "source": [
    "# RFMODEL03 - Adjusting n_estimators = 50, n_jobs = 2 "
   ]
  },
  {
   "cell_type": "code",
   "execution_count": 19,
   "id": "39c6092f",
   "metadata": {
    "execution": {
     "iopub.execute_input": "2023-10-28T22:37:08.999080Z",
     "iopub.status.busy": "2023-10-28T22:37:08.998832Z",
     "iopub.status.idle": "2023-10-28T22:37:09.270463Z",
     "shell.execute_reply": "2023-10-28T22:37:09.269761Z"
    },
    "papermill": {
     "duration": 0.280678,
     "end_time": "2023-10-28T22:37:09.271896",
     "exception": false,
     "start_time": "2023-10-28T22:37:08.991218",
     "status": "completed"
    },
    "tags": []
   },
   "outputs": [
    {
     "name": "stdout",
     "output_type": "stream",
     "text": [
      "Accuracy score: 0.953\n",
      "Precision score: 0.478\n",
      "Recall score: 0.498\n",
      "F1 score: 0.488\n"
     ]
    }
   ],
   "source": [
    "model03=RandomForestClassifier(n_estimators=50, n_jobs=2,random_state=0)\n",
    "model03.fit(x_train,y_train)\n",
    "y_pred=model03.predict(x_test)\n",
    "\n",
    "print(\"Accuracy score: %.3f\"%accuracy_score(y_test, y_pred))\n",
    "print(\"Precision score: %.3f\"%precision_score(y_test, y_pred, average='macro'))\n",
    "print(\"Recall score: %.3f\"%recall_score(y_test, y_pred, average='macro'))\n",
    "print(\"F1 score: %.3f\"%f1_score(y_test, y_pred, average='macro'))"
   ]
  },
  {
   "cell_type": "markdown",
   "id": "386e780b",
   "metadata": {
    "papermill": {
     "duration": 0.006869,
     "end_time": "2023-10-28T22:37:09.286298",
     "exception": false,
     "start_time": "2023-10-28T22:37:09.279429",
     "status": "completed"
    },
    "tags": []
   },
   "source": [
    "# RFMODEL04 - Adjusting n_estimators = 100, n_jobs = 3 "
   ]
  },
  {
   "cell_type": "code",
   "execution_count": 20,
   "id": "3d4606b6",
   "metadata": {
    "execution": {
     "iopub.execute_input": "2023-10-28T22:37:09.301567Z",
     "iopub.status.busy": "2023-10-28T22:37:09.301195Z",
     "iopub.status.idle": "2023-10-28T22:37:09.726344Z",
     "shell.execute_reply": "2023-10-28T22:37:09.725518Z"
    },
    "papermill": {
     "duration": 0.434758,
     "end_time": "2023-10-28T22:37:09.728128",
     "exception": false,
     "start_time": "2023-10-28T22:37:09.293370",
     "status": "completed"
    },
    "tags": []
   },
   "outputs": [
    {
     "name": "stdout",
     "output_type": "stream",
     "text": [
      "Accuracy score: 0.954\n",
      "Precision score: 0.478\n",
      "Recall score: 0.499\n",
      "F1 score: 0.488\n"
     ]
    }
   ],
   "source": [
    "model04=RandomForestClassifier(n_estimators=100, n_jobs=3,random_state=0)\n",
    "model04.fit(x_train,y_train)\n",
    "y_pred=model04.predict(x_test)\n",
    "\n",
    "print(\"Accuracy score: %.3f\"%accuracy_score(y_test, y_pred))\n",
    "print(\"Precision score: %.3f\"%precision_score(y_test, y_pred, average='macro'))\n",
    "print(\"Recall score: %.3f\"%recall_score(y_test, y_pred, average='macro'))\n",
    "print(\"F1 score: %.3f\"%f1_score(y_test, y_pred, average='macro'))"
   ]
  },
  {
   "cell_type": "markdown",
   "id": "5b3e8f84",
   "metadata": {
    "papermill": {
     "duration": 0.006952,
     "end_time": "2023-10-28T22:37:09.742325",
     "exception": false,
     "start_time": "2023-10-28T22:37:09.735373",
     "status": "completed"
    },
    "tags": []
   },
   "source": [
    "# Visualizing the metrics with adjustments in data splitting(training & testing)"
   ]
  },
  {
   "cell_type": "code",
   "execution_count": 21,
   "id": "3abd45a3",
   "metadata": {
    "execution": {
     "iopub.execute_input": "2023-10-28T22:37:09.758311Z",
     "iopub.status.busy": "2023-10-28T22:37:09.757675Z",
     "iopub.status.idle": "2023-10-28T22:37:09.937892Z",
     "shell.execute_reply": "2023-10-28T22:37:09.937346Z"
    },
    "papermill": {
     "duration": 0.189524,
     "end_time": "2023-10-28T22:37:09.939360",
     "exception": false,
     "start_time": "2023-10-28T22:37:09.749836",
     "status": "completed"
    },
    "tags": []
   },
   "outputs": [
    {
     "data": {
      "image/png": "[encoded data removed]",
      "text/plain": [
       "<Figure size 640x480 with 1 Axes>"
      ]
     },
     "metadata": {},
     "output_type": "display_data"
    }
   ],
   "source": [
    "import matplotlib.pyplot as plt\n",
    "\n",
    "#list of the performance accuracies\n",
    "accuracies = [0.950, 0.954]\n",
    "\n",
    "#list of the training and testing set splits\n",
    "splits = ['60-40', '70-30']\n",
    "\n",
    "# Plot the performance accuracy of each model against the training and testing set split\n",
    "plt.plot(splits, accuracies)\n",
    "plt.xlabel('Training and testing set split')\n",
    "plt.ylabel('Performance accuracy')\n",
    "plt.title('Performance accuracy of random forest models with different training and testing set splits')\n",
    "plt.show()"
   ]
  },
  {
   "cell_type": "code",
   "execution_count": 22,
   "id": "8cfee2d1",
   "metadata": {
    "execution": {
     "iopub.execute_input": "2023-10-28T22:37:09.956610Z",
     "iopub.status.busy": "2023-10-28T22:37:09.955803Z",
     "iopub.status.idle": "2023-10-28T22:37:10.145832Z",
     "shell.execute_reply": "2023-10-28T22:37:10.145280Z"
    },
    "papermill": {
     "duration": 0.200025,
     "end_time": "2023-10-28T22:37:10.147285",
     "exception": false,
     "start_time": "2023-10-28T22:37:09.947260",
     "status": "completed"
    },
    "tags": []
   },
   "outputs": [
    {
     "data": {
      "image/png": "[encoded data removed]",
      "text/plain": [
       "<Figure size 640x480 with 1 Axes>"
      ]
     },
     "metadata": {},
     "output_type": "display_data"
    }
   ],
   "source": [
    "import matplotlib.pyplot as plt\n",
    "\n",
    "precision_scores = [0.477, 0.478]\n",
    "recall_scores = [0.498, 0.499]\n",
    "f1_scores = [0.487, 0.488]\n",
    "colors = ['blue', 'red']\n",
    "labels = ['60-40 split', '70-30 split']\n",
    "\n",
    "fig, ax = plt.subplots()\n",
    "\n",
    "# Set the x-axis labels to be the training-testing splits\n",
    "ax.set_xticks([0, 1])\n",
    "ax.set_xticklabels(labels)\n",
    "\n",
    "# Plot the precision scores, recall scores, and F1 scores\n",
    "ax.plot(precision_scores, label='Precision score', color=colors[0])\n",
    "ax.plot(recall_scores, label='Recall score', color=colors[1])\n",
    "ax.plot(f1_scores, label='F1 score', color='green')\n",
    "\n",
    "# Set the title of the plot\n",
    "ax.set_title('Precision score, recall score, and F1 score of random forest models with different training and testing set splits')\n",
    "ax.set_xlabel('Training-testing split')\n",
    "ax.set_ylabel('Score')\n",
    "\n",
    "# Add a legend to the plot\n",
    "ax.legend()\n",
    "\n",
    "# Show the plot\n",
    "plt.show()\n"
   ]
  }
 ],
 "metadata": {
  "kernelspec": {
   "display_name": "Python 3",
   "language": "python",
   "name": "python3"
  },
  "language_info": {
   "codemirror_mode": {
    "name": "ipython",
    "version": 3
   },
   "file_extension": ".py",
   "mimetype": "text/x-python",
   "name": "python",
   "nbconvert_exporter": "python",
   "pygments_lexer": "ipython3",
   "version": "3.10.12"
  },
  "papermill": {
   "default_parameters": {},
   "duration": 8.069505,
   "end_time": "2023-10-28T22:37:10.572302",
   "environment_variables": {},
   "exception": null,
   "input_path": "__notebook__.ipynb",
   "output_path": "__notebook__.ipynb",
   "parameters": {},
   "start_time": "2023-10-28T22:37:02.502797",
   "version": "2.4.0"
  }
 },
 "nbformat": 4,
 "nbformat_minor": 5
}
